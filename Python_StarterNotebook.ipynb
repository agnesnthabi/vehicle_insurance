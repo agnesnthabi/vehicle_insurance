{
  "cells": [
    {
      "cell_type": "markdown",
      "metadata": {
        "id": "48S6RVt_jXwp"
      },
      "source": [
        "# AutoInland Vehicle Insurance Claim Challenge StarterNotebook - Python\n",
        "\n",
        "This is a simple starter notebook to get started with the AutoInland Vehicle Insurance Claim Challenge on Zindi.\n",
        "\n",
        "This notebook covers:\n",
        "- Loading the data\n",
        "- Simple EDA and an example of feature enginnering\n",
        "- Data preprocessing and data wrangling\n",
        "- Creating a simple model\n",
        "- Making a submission\n",
        "- Some tips for improving your score"
      ]
    },
    {
      "cell_type": "markdown",
      "metadata": {
        "id": "HdPjBTFdkI7t"
      },
      "source": [
        "### Importing libraries"
      ]
    },
    {
      "cell_type": "code",
      "execution_count": 1,
      "metadata": {
        "id": "8IWFJK2h22yc"
      },
      "outputs": [],
      "source": [
        "import pandas as pd\n",
        "import numpy as np\n",
        "import datetime as dt\n",
        "from tqdm.notebook import tqdm_notebook\n",
        "import seaborn as sns\n",
        "import matplotlib.pyplot as plt\n",
        "from sklearn.metrics import f1_score\n",
        "from sklearn.model_selection import train_test_split\n",
        "from sklearn.preprocessing import LabelEncoder\n",
        "import warnings\n",
        "warnings.filterwarnings('ignore')"
      ]
    },
    {
      "cell_type": "markdown",
      "metadata": {
        "id": "9SyQadB9iY8R"
      },
      "source": [
        "### Read files"
      ]
    },
    {
      "cell_type": "code",
      "execution_count": 2,
      "metadata": {
        "id": "MQCvC_XjDzyH"
      },
      "outputs": [],
      "source": [
        "# Load files into a pandas dataframe\n",
        "train = pd.read_csv('Train.csv')\n",
        "test = pd.read_csv('Test.csv')\n",
        "ss = pd.read_csv('SampleSubmission.csv')"
      ]
    },
    {
      "cell_type": "markdown",
      "metadata": {
        "id": "MCP0H7tSicUU"
      },
      "source": [
        "## Eploratory Data Analysis"
      ]
    },
    {
      "cell_type": "code",
      "execution_count": null,
      "metadata": {
        "colab": {
          "base_uri": "https://localhost:8080/",
          "height": 195
        },
        "id": "Mcqp5mXG22ye",
        "outputId": "a9326a6d-9ea2-4c91-d038-534cc1e4c64f"
      },
      "outputs": [],
      "source": [
        "# Preview the first five rows of the train set\n",
        "train.head()"
      ]
    },
    {
      "cell_type": "code",
      "execution_count": null,
      "metadata": {
        "colab": {
          "base_uri": "https://localhost:8080/",
          "height": 279
        },
        "id": "XADqPrMo22yf",
        "outputId": "b389a03e-c9d5-40a5-886b-7317689c5eb8"
      },
      "outputs": [],
      "source": [
        "# Preview the first five rows of the test set\n",
        "test.head(20)\n",
        "# test[\"Car_Category\"].value_counts()"
      ]
    },
    {
      "cell_type": "code",
      "execution_count": null,
      "metadata": {
        "colab": {
          "base_uri": "https://localhost:8080/",
          "height": 195
        },
        "id": "iwZ0JOrk22yg",
        "outputId": "7a878636-f3d2-4a1a-cd74-f8623474ceb0"
      },
      "outputs": [],
      "source": [
        "# Preview the first five rows of the sample submission file\n",
        "ss.head()"
      ]
    },
    {
      "cell_type": "code",
      "execution_count": null,
      "metadata": {
        "colab": {
          "base_uri": "https://localhost:8080/"
        },
        "id": "PpiShcfRIM58",
        "outputId": "a88f8506-d00c-4ba2-d8e5-055630d22a9a"
      },
      "outputs": [],
      "source": [
        "# Check the shape of the train and test sets\n",
        "print(f'The shape of the train set is: {train.shape}\\nThe shape of the test set is: {test.shape}')"
      ]
    },
    {
      "cell_type": "code",
      "execution_count": null,
      "metadata": {
        "colab": {
          "base_uri": "https://localhost:8080/",
          "height": 446
        },
        "id": "PXnqoSeVJT1w",
        "outputId": "2e408179-ff08-4286-db45-9353556faf50"
      },
      "outputs": [],
      "source": [
        "# Check if there any missing values in train set\n",
        "ax = train.isna().sum().sort_values().plot(kind = 'barh', figsize = (10, 7))\n",
        "plt.title('Percentage of Missing Values Per Column in Train Set', fontdict={'size':15})\n",
        "for p in ax.patches:\n",
        "    percentage ='{:,.0f}%'.format((p.get_width()/train.shape[0])*100)\n",
        "    width, height =p.get_width(),p.get_height()\n",
        "    x=p.get_x()+width+0.02\n",
        "    y=p.get_y()+height/2\n",
        "    ax.annotate(percentage,(x,y))"
      ]
    },
    {
      "cell_type": "code",
      "execution_count": null,
      "metadata": {},
      "outputs": [],
      "source": [
        "train[\"Gender\"].value_counts()"
      ]
    },
    {
      "cell_type": "code",
      "execution_count": null,
      "metadata": {},
      "outputs": [],
      "source": [
        "train[\"State\"].value_counts()"
      ]
    },
    {
      "cell_type": "code",
      "execution_count": null,
      "metadata": {},
      "outputs": [],
      "source": [
        "train[\"LGA_Name\"].value_counts()"
      ]
    },
    {
      "cell_type": "code",
      "execution_count": null,
      "metadata": {},
      "outputs": [],
      "source": [
        "train[\"Subject_Car_Colour\"].value_counts()"
      ]
    },
    {
      "cell_type": "code",
      "execution_count": null,
      "metadata": {},
      "outputs": [],
      "source": [
        "train[\"ID\"].value_counts()"
      ]
    },
    {
      "cell_type": "code",
      "execution_count": null,
      "metadata": {},
      "outputs": [],
      "source": [
        "train.isnull().sum()"
      ]
    },
    {
      "cell_type": "code",
      "execution_count": null,
      "metadata": {},
      "outputs": [],
      "source": [
        "train.columns"
      ]
    },
    {
      "cell_type": "code",
      "execution_count": null,
      "metadata": {},
      "outputs": [],
      "source": [
        "test.columns"
      ]
    },
    {
      "cell_type": "markdown",
      "metadata": {},
      "source": [
        "### Imputing Gender with Mode"
      ]
    },
    {
      "cell_type": "code",
      "execution_count": 3,
      "metadata": {},
      "outputs": [],
      "source": [
        "train['Gender'] = train['Gender'].fillna(train['Gender'].mode()[0])\n",
        "test['Gender'] = test['Gender'].fillna(test['Gender'].mode()[0])"
      ]
    },
    {
      "cell_type": "markdown",
      "metadata": {},
      "source": [
        "### Imputing Age"
      ]
    },
    {
      "cell_type": "code",
      "execution_count": 4,
      "metadata": {},
      "outputs": [],
      "source": [
        "def clean_age(age):\n",
        "    if pd.isna(age) or age < 0 or age > 100:\n",
        "        return np.nan\n",
        "    return age\n",
        "\n",
        "train['Age'] = train['Age'].apply(clean_age)\n",
        "test['Age'] = test['Age'].apply(clean_age)\n",
        "\n",
        "\n",
        "age_average = train['Age'].mean()\n",
        "age_average_test = test['Age'].mean()\n",
        "\n",
        "train['Age'].fillna(age_average, inplace=True)\n",
        "test['Age'].fillna(age_average_test, inplace=True)"
      ]
    },
    {
      "cell_type": "markdown",
      "metadata": {},
      "source": [
        "### Replacing Dots"
      ]
    },
    {
      "cell_type": "code",
      "execution_count": 5,
      "metadata": {},
      "outputs": [],
      "source": [
        "train['Subject_Car_Make'] = train['Subject_Car_Make'].replace('.', np.nan)"
      ]
    },
    {
      "cell_type": "markdown",
      "metadata": {},
      "source": [
        "### Backfill Method"
      ]
    },
    {
      "cell_type": "code",
      "execution_count": 6,
      "metadata": {},
      "outputs": [
        {
          "name": "stdout",
          "output_type": "stream",
          "text": [
            "Original Data:\n",
            "               ID Policy Start Date Policy End Date  Gender        Age  \\\n",
            "0      ID_0040R73        2010-05-14      2011-05-13    Male  30.000000   \n",
            "1      ID_0046BNK        2010-11-29      2011-11-28  Female  79.000000   \n",
            "2      ID_005QMC3        2010-03-21      2011-03-20    Male  43.000000   \n",
            "3      ID_0079OHW        2010-08-21      2011-08-20    Male   2.000000   \n",
            "4      ID_00BRP63        2010-08-29      2010-12-31  Entity  20.000000   \n",
            "...           ...               ...             ...     ...        ...   \n",
            "12074  ID_ZZA1SES        2010-05-25      2011-05-24  Female  30.000000   \n",
            "12075  ID_ZZDAC3K        2010-10-03      2011-10-02  Female  59.000000   \n",
            "12076  ID_ZZIU2XC        2010-10-10      2011-10-08    Male  34.000000   \n",
            "12077  ID_ZZRQ1NF        2010-02-27      2011-02-26    Male  41.153991   \n",
            "12078  ID_ZZWRIIE        2010-07-01      2011-06-30  Female  46.000000   \n",
            "\n",
            "      First Transaction Date  No_Pol Car_Category Subject_Car_Colour  \\\n",
            "0                 2010-05-14       1       Saloon              Black   \n",
            "1                 2010-11-29       1         JEEP               Grey   \n",
            "2                 2010-03-21       1       Saloon                Red   \n",
            "3                 2010-08-21       1       Saloon              Black   \n",
            "4                 2010-08-29       3       Saloon              Black   \n",
            "...                      ...     ...          ...                ...   \n",
            "12074             2010-05-25       1         JEEP              Black   \n",
            "12075             2010-10-03       1         JEEP              White   \n",
            "12076             2010-10-10       1         JEEP              White   \n",
            "12077             2010-02-27       2         JEEP              White   \n",
            "12078             2010-07-01       2         JEEP              Black   \n",
            "\n",
            "      Subject_Car_Make         LGA_Name        State  ProductName  target  \n",
            "0               TOYOTA            Lagos        Lagos  Car Classic       0  \n",
            "1               TOYOTA            Lagos        Lagos  Car Classic       1  \n",
            "2               TOYOTA            Lagos        Lagos  Car Classic       0  \n",
            "3               TOYOTA            Lagos        Lagos      CarSafe       0  \n",
            "4               TOYOTA            Lagos        Lagos        Muuve       1  \n",
            "...                ...              ...          ...          ...     ...  \n",
            "12074      Range Rover      Ibeju/Lekki  Ibeju-Lekki  Car Classic       1  \n",
            "12075           TOYOTA  Victoria Island        Lagos  Car Classic       0  \n",
            "12076           TOYOTA  Victoria Island        Lagos      CarSafe       0  \n",
            "12077           TOYOTA  Victoria Island        Lagos         CVTP       0  \n",
            "12078       Land Rover     Lagos Island        Lagos  Car Classic       0  \n",
            "\n",
            "[12079 rows x 14 columns]\n",
            "\n",
            "Backfilled Data:\n",
            "               ID Policy Start Date Policy End Date  Gender        Age  \\\n",
            "0      ID_0040R73        2010-05-14      2011-05-13    Male  30.000000   \n",
            "1      ID_0046BNK        2010-11-29      2011-11-28  Female  79.000000   \n",
            "2      ID_005QMC3        2010-03-21      2011-03-20    Male  43.000000   \n",
            "3      ID_0079OHW        2010-08-21      2011-08-20    Male   2.000000   \n",
            "4      ID_00BRP63        2010-08-29      2010-12-31  Entity  20.000000   \n",
            "...           ...               ...             ...     ...        ...   \n",
            "12074  ID_ZZA1SES        2010-05-25      2011-05-24  Female  30.000000   \n",
            "12075  ID_ZZDAC3K        2010-10-03      2011-10-02  Female  59.000000   \n",
            "12076  ID_ZZIU2XC        2010-10-10      2011-10-08    Male  34.000000   \n",
            "12077  ID_ZZRQ1NF        2010-02-27      2011-02-26    Male  41.153991   \n",
            "12078  ID_ZZWRIIE        2010-07-01      2011-06-30  Female  46.000000   \n",
            "\n",
            "      First Transaction Date  No_Pol Car_Category Subject_Car_Colour  \\\n",
            "0                 2010-05-14       1       Saloon              Black   \n",
            "1                 2010-11-29       1         JEEP               Grey   \n",
            "2                 2010-03-21       1       Saloon                Red   \n",
            "3                 2010-08-21       1       Saloon              Black   \n",
            "4                 2010-08-29       3       Saloon              Black   \n",
            "...                      ...     ...          ...                ...   \n",
            "12074             2010-05-25       1         JEEP              Black   \n",
            "12075             2010-10-03       1         JEEP              White   \n",
            "12076             2010-10-10       1         JEEP              White   \n",
            "12077             2010-02-27       2         JEEP              White   \n",
            "12078             2010-07-01       2         JEEP              Black   \n",
            "\n",
            "      Subject_Car_Make         LGA_Name        State  ProductName  target  \n",
            "0               TOYOTA            Lagos        Lagos  Car Classic       0  \n",
            "1               TOYOTA            Lagos        Lagos  Car Classic       1  \n",
            "2               TOYOTA            Lagos        Lagos  Car Classic       0  \n",
            "3               TOYOTA            Lagos        Lagos      CarSafe       0  \n",
            "4               TOYOTA            Lagos        Lagos        Muuve       1  \n",
            "...                ...              ...          ...          ...     ...  \n",
            "12074      Range Rover      Ibeju/Lekki  Ibeju-Lekki  Car Classic       1  \n",
            "12075           TOYOTA  Victoria Island        Lagos  Car Classic       0  \n",
            "12076           TOYOTA  Victoria Island        Lagos      CarSafe       0  \n",
            "12077           TOYOTA  Victoria Island        Lagos         CVTP       0  \n",
            "12078       Land Rover     Lagos Island        Lagos  Car Classic       0  \n",
            "\n",
            "[12079 rows x 14 columns]\n"
          ]
        }
      ],
      "source": [
        "def backfill_data(data, columns):\n",
        "    for column in columns:\n",
        "        data[column] = data[column].fillna(method='bfill')\n",
        "    return data\n",
        "\n",
        "                   \n",
        "backfill_columns = ['Car_Category', 'Subject_Car_Colour', 'Subject_Car_Make', 'LGA_Name', 'State', 'Gender']\n",
        "    \n",
        "backfilled_data = backfill_data(train, backfill_columns)\n",
        "\n",
        "print(\"Original Data:\")\n",
        "print(train)\n",
        "print(\"\\nBackfilled Data:\")\n",
        "print(backfilled_data)\n"
      ]
    },
    {
      "cell_type": "code",
      "execution_count": 7,
      "metadata": {},
      "outputs": [
        {
          "name": "stdout",
          "output_type": "stream",
          "text": [
            "Original Data:\n",
            "              ID Policy Start Date Policy End Date  Gender        Age  \\\n",
            "0     ID_01QM0NU        2010-10-23      2011-10-22  Female  46.000000   \n",
            "1     ID_024NJLZ        2010-10-14      2011-10-13    Male  32.000000   \n",
            "2     ID_02NOVWQ        2010-08-29      2011-08-28  Female  45.000000   \n",
            "3     ID_02VSP68        2010-06-13      2011-06-12  Female  58.000000   \n",
            "4     ID_02YB37K        2010-07-01      2011-06-30    Male  41.319241   \n",
            "...          ...               ...             ...     ...        ...   \n",
            "1197  ID_ZTTHC5X        2010-12-05      2011-12-04    Male  67.000000   \n",
            "1198  ID_ZUJAFUP        2010-01-14      2011-01-13    Male  43.000000   \n",
            "1199  ID_ZWHCTUM        2010-07-26      2011-07-25    Male  30.000000   \n",
            "1200  ID_ZWQRL8L        2010-02-16      2011-02-15    Male  44.000000   \n",
            "1201  ID_ZWZ92GU        2010-03-18      2011-03-17    Male  28.000000   \n",
            "\n",
            "     First Transaction Date  No_Pol Car_Category Subject_Car_Colour  \\\n",
            "0                2010-10-23       1       Saloon              Black   \n",
            "1                2010-10-14       1       Saloon              Black   \n",
            "2                2010-08-29       2       Saloon              Black   \n",
            "3                2010-06-13       1       Saloon                Red   \n",
            "4                2010-07-01       1       Saloon                Red   \n",
            "...                     ...     ...          ...                ...   \n",
            "1197             2010-12-05       2         JEEP              Black   \n",
            "1198             2010-01-14       1       Saloon             Silver   \n",
            "1199             2010-07-26       1        Truck              White   \n",
            "1200             2010-02-16       2       Saloon             Silver   \n",
            "1201             2010-03-18       1       Saloon             Silver   \n",
            "\n",
            "     Subject_Car_Make         LGA_Name            State  ProductName  \n",
            "0                Ford  Abuja Municipal  Abuja-Municipal  Car Classic  \n",
            "1               Honda           Kosofe            Benue  Car Classic  \n",
            "2               Honda          Wuse 11            Abuja  Car Classic  \n",
            "3              TOYOTA  Victoria Island            Lagos      CarSafe  \n",
            "4             Hyundai  Victoria Island            Lagos  Car Classic  \n",
            "...               ...              ...              ...          ...  \n",
            "1197           TOYOTA  Victoria Island            Lagos  Car Classic  \n",
            "1198          Hyundai         Surulere            Lagos  Car Classic  \n",
            "1199            Iveco  Victoria Island            Lagos         CVTP  \n",
            "1200           Nissan        Aba North        Aba-North  Car Classic  \n",
            "1201           TOYOTA              NaN              NaN  Car Classic  \n",
            "\n",
            "[1202 rows x 13 columns]\n",
            "\n",
            "Backfilled Data:\n",
            "              ID Policy Start Date Policy End Date  Gender        Age  \\\n",
            "0     ID_01QM0NU        2010-10-23      2011-10-22  Female  46.000000   \n",
            "1     ID_024NJLZ        2010-10-14      2011-10-13    Male  32.000000   \n",
            "2     ID_02NOVWQ        2010-08-29      2011-08-28  Female  45.000000   \n",
            "3     ID_02VSP68        2010-06-13      2011-06-12  Female  58.000000   \n",
            "4     ID_02YB37K        2010-07-01      2011-06-30    Male  41.319241   \n",
            "...          ...               ...             ...     ...        ...   \n",
            "1197  ID_ZTTHC5X        2010-12-05      2011-12-04    Male  67.000000   \n",
            "1198  ID_ZUJAFUP        2010-01-14      2011-01-13    Male  43.000000   \n",
            "1199  ID_ZWHCTUM        2010-07-26      2011-07-25    Male  30.000000   \n",
            "1200  ID_ZWQRL8L        2010-02-16      2011-02-15    Male  44.000000   \n",
            "1201  ID_ZWZ92GU        2010-03-18      2011-03-17    Male  28.000000   \n",
            "\n",
            "     First Transaction Date  No_Pol Car_Category Subject_Car_Colour  \\\n",
            "0                2010-10-23       1       Saloon              Black   \n",
            "1                2010-10-14       1       Saloon              Black   \n",
            "2                2010-08-29       2       Saloon              Black   \n",
            "3                2010-06-13       1       Saloon                Red   \n",
            "4                2010-07-01       1       Saloon                Red   \n",
            "...                     ...     ...          ...                ...   \n",
            "1197             2010-12-05       2         JEEP              Black   \n",
            "1198             2010-01-14       1       Saloon             Silver   \n",
            "1199             2010-07-26       1        Truck              White   \n",
            "1200             2010-02-16       2       Saloon             Silver   \n",
            "1201             2010-03-18       1       Saloon             Silver   \n",
            "\n",
            "     Subject_Car_Make         LGA_Name            State  ProductName  \n",
            "0                Ford  Abuja Municipal  Abuja-Municipal  Car Classic  \n",
            "1               Honda           Kosofe            Benue  Car Classic  \n",
            "2               Honda          Wuse 11            Abuja  Car Classic  \n",
            "3              TOYOTA  Victoria Island            Lagos      CarSafe  \n",
            "4             Hyundai  Victoria Island            Lagos  Car Classic  \n",
            "...               ...              ...              ...          ...  \n",
            "1197           TOYOTA  Victoria Island            Lagos  Car Classic  \n",
            "1198          Hyundai         Surulere            Lagos  Car Classic  \n",
            "1199            Iveco  Victoria Island            Lagos         CVTP  \n",
            "1200           Nissan        Aba North        Aba-North  Car Classic  \n",
            "1201           TOYOTA              NaN              NaN  Car Classic  \n",
            "\n",
            "[1202 rows x 13 columns]\n"
          ]
        }
      ],
      "source": [
        "def backfill_data(data, columns):\n",
        "    for column in columns:\n",
        "        data[column] = data[column].fillna(method='bfill')\n",
        "    return data\n",
        "\n",
        "                   \n",
        "backfill_columns = ['Car_Category', 'Subject_Car_Colour', 'Subject_Car_Make', 'LGA_Name', 'State', 'Gender']\n",
        "    \n",
        "backfilled_data = backfill_data(test, backfill_columns)\n",
        "\n",
        "print(\"Original Data:\")\n",
        "print(test)\n",
        "print(\"\\nBackfilled Data:\")\n",
        "print(backfilled_data)"
      ]
    },
    {
      "cell_type": "markdown",
      "metadata": {},
      "source": [
        "### Encoding"
      ]
    },
    {
      "cell_type": "code",
      "execution_count": 9,
      "metadata": {},
      "outputs": [
        {
          "data": {
            "text/plain": [
              "Index(['ID', 'Policy Start Date', 'Policy End Date', 'Gender', 'Age',\n",
              "       'First Transaction Date', 'No_Pol', 'Car_Category',\n",
              "       'Subject_Car_Colour', 'Subject_Car_Make', 'LGA_Name', 'State',\n",
              "       'ProductName', 'target'],\n",
              "      dtype='object')"
            ]
          },
          "execution_count": 9,
          "metadata": {},
          "output_type": "execute_result"
        }
      ],
      "source": [
        "train.columns"
      ]
    },
    {
      "cell_type": "code",
      "execution_count": 11,
      "metadata": {},
      "outputs": [],
      "source": [
        "categorical_cols = [\"Gender\", \"Car_Category\", \"Subject_Car_Colour\", \"Subject_Car_Make\", \"ProductName\", \"Policy Start Date\", \"Policy End Date\", \"First Transaction Date\", \"LGA_Name\", \"State\"]\n",
        "\n",
        "le = LabelEncoder()\n",
        "for col in categorical_cols:\n",
        "    test[col] = le.fit_transform(test[col].astype(str))"
      ]
    },
    {
      "cell_type": "markdown",
      "metadata": {},
      "source": [
        "### Change Dates"
      ]
    },
    {
      "cell_type": "code",
      "execution_count": 12,
      "metadata": {},
      "outputs": [],
      "source": [
        "train[\"Policy Start Date\"] = pd.to_datetime(train[\"Policy Start Date\"])\n",
        "train[\"Policy Start Year\"] = train[\"Policy Start Date\"].dt.year\n",
        "train[\"Policy Start Month\"] = train[\"Policy Start Date\"].dt.month\n",
        "train[\"Policy Start Day\"] = train[\"Policy Start Date\"].dt.day"
      ]
    },
    {
      "cell_type": "code",
      "execution_count": 13,
      "metadata": {},
      "outputs": [],
      "source": [
        "train[\"Policy End Date\"] = pd.to_datetime(train[\"Policy End Date\"])\n",
        "train[\"Policy End Year\"] = train[\"Policy End Date\"].dt.year\n",
        "train[\"Policy End Month\"] = train[\"Policy End Date\"].dt.month\n",
        "train[\"Policy End Day\"] = train[\"Policy End Date\"].dt.day"
      ]
    },
    {
      "cell_type": "code",
      "execution_count": 14,
      "metadata": {},
      "outputs": [],
      "source": [
        "train[\"First Transaction Date\"] = pd.to_datetime(train[\"First Transaction Date\"])\n",
        "train[\"First Transaction Year\"] = train[\"First Transaction Date\"].dt.year\n",
        "train[\"First Transaction Month\"] = train[\"First Transaction Date\"].dt.month\n",
        "train[\"First Transaction Day\"] = train[\"First Transaction Date\"].dt.day"
      ]
    },
    {
      "cell_type": "code",
      "execution_count": null,
      "metadata": {},
      "outputs": [],
      "source": [
        "train = train.drop([\"Policy Start Date\", \"Policy End Date\", \"First Transaction Date\", \"ID\"], axis=1)"
      ]
    },
    {
      "cell_type": "markdown",
      "metadata": {},
      "source": [
        "### Putting the target column at the end"
      ]
    },
    {
      "cell_type": "code",
      "execution_count": 15,
      "metadata": {},
      "outputs": [],
      "source": [
        "target = \"target\"\n",
        "train = train[[col for col in train.columns if col != target] + [target]]"
      ]
    },
    {
      "cell_type": "code",
      "execution_count": null,
      "metadata": {},
      "outputs": [],
      "source": [
        "train.head()"
      ]
    },
    {
      "cell_type": "code",
      "execution_count": null,
      "metadata": {},
      "outputs": [],
      "source": [
        "# Check if there any missing values in train set\n",
        "ax = train.isna().sum().sort_values().plot(kind = 'barh', figsize = (10, 7))\n",
        "plt.title('Percentage of Missing Values Per Column in Train Set', fontdict={'size':15})\n",
        "for p in ax.patches:\n",
        "    percentage ='{:,.0f}%'.format((p.get_width()/train.shape[0])*100)\n",
        "    width, height =p.get_width(),p.get_height()\n",
        "    x=p.get_x()+width+0.02\n",
        "    y=p.get_y()+height/2\n",
        "    ax.annotate(percentage,(x,y))"
      ]
    },
    {
      "cell_type": "markdown",
      "metadata": {},
      "source": [
        "## Encoding"
      ]
    },
    {
      "cell_type": "code",
      "execution_count": null,
      "metadata": {},
      "outputs": [],
      "source": [
        "categorical_cols = ['Gender', 'Car_Category', 'Subject_Car_Colour', 'Subject_Car_Make', 'LGA_Name', 'State', 'ProductName']\n",
        "for col in categorical_cols:\n",
        "        train[col] = LabelEncoder().fit_transform(train[col])"
      ]
    },
    {
      "cell_type": "code",
      "execution_count": null,
      "metadata": {
        "colab": {
          "base_uri": "https://localhost:8080/",
          "height": 446
        },
        "id": "JvZQN_KMMhyH",
        "outputId": "b3e52142-44ed-4496-b5ef-21c58923f0b2"
      },
      "outputs": [],
      "source": [
        "# Check if there missing values in test set\n",
        "ax = test.isna().sum().sort_values().plot(kind = 'barh', figsize = (10, 7))\n",
        "plt.title('Percentage of Missing Values Per Column in Test Set', fontdict={'size':15})\n",
        "\n",
        "for p in ax.patches:\n",
        "    percentage ='{:,.1f}%'.format((p.get_width()/test.shape[0])*100)\n",
        "    width, height =p.get_width(),p.get_height()\n",
        "    x=p.get_x()+width+0.02\n",
        "    y=p.get_y()+height/2\n",
        "    ax.annotate(percentage,(x,y))"
      ]
    }
  ],
  "metadata": {
    "colab": {
      "collapsed_sections": [],
      "name": "AXA-Python_StarterNotebook.ipynb",
      "provenance": []
    },
    "kernelspec": {
      "display_name": "base",
      "language": "python",
      "name": "python3"
    },
    "language_info": {
      "codemirror_mode": {
        "name": "ipython",
        "version": 3
      },
      "file_extension": ".py",
      "mimetype": "text/x-python",
      "name": "python",
      "nbconvert_exporter": "python",
      "pygments_lexer": "ipython3",
      "version": "3.12.7"
    }
  },
  "nbformat": 4,
  "nbformat_minor": 0
}
